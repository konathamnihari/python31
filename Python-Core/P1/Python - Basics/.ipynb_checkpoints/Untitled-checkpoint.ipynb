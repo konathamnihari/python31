{
 "cells": [
  {
   "cell_type": "code",
   "execution_count": null,
   "id": "0d4b7a6e",
   "metadata": {},
   "outputs": [],
   "source": [
    "#Read two number from keyboard\n",
    "\n",
    "a = input(\"Enter First Number:\")\n",
    "b = input(\"Enter Second Number:\")\n",
    "\n",
    "print(a+b)"
   ]
  },
  {
   "cell_type": "code",
   "execution_count": null,
   "id": "39251fbf",
   "metadata": {},
   "outputs": [],
   "source": []
  },
  {
   "cell_type": "code",
   "execution_count": null,
   "id": "e8e2bac5",
   "metadata": {},
   "outputs": [],
   "source": [
    "#Read two number from keyboard\n",
    "\n",
    "a = input(\"Enter First Number:\")\n",
    "b = input(\"Enter Second Number:\")\n",
    "\n",
    "print(a+b)"
   ]
  },
  {
   "cell_type": "code",
   "execution_count": null,
   "id": "9a292154",
   "metadata": {},
   "outputs": [],
   "source": []
  }
 ],
 "metadata": {
  "kernelspec": {
   "display_name": "Python 3 (ipykernel)",
   "language": "python",
   "name": "python3"
  },
  "language_info": {
   "codemirror_mode": {
    "name": "ipython",
    "version": 3
   },
   "file_extension": ".py",
   "mimetype": "text/x-python",
   "name": "python",
   "nbconvert_exporter": "python",
   "pygments_lexer": "ipython3",
   "version": "3.7.0"
  }
 },
 "nbformat": 4,
 "nbformat_minor": 5
}
