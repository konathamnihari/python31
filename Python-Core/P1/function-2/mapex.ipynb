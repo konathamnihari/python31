{
 "cells": [
  {
   "cell_type": "code",
   "execution_count": 2,
   "id": "f5f231b9",
   "metadata": {},
   "outputs": [
    {
     "name": "stdout",
     "output_type": "stream",
     "text": [
      "['rahul', 'sonia', 'priyanka']\n",
      "['RAHUL', 'SONIA', 'PRIYANKA']\n"
     ]
    }
   ],
   "source": [
    "enames = ['rahul', 'sonia', 'priyanka']\n",
    "\n",
    "new_Names=[]\n",
    "for name in enames:\n",
    "    new_Names.append(name.upper())\n",
    "    \n",
    "    \n",
    "print(enames)\n",
    "print(new_Names)"
   ]
  },
  {
   "cell_type": "code",
   "execution_count": 3,
   "id": "efa1d2de",
   "metadata": {},
   "outputs": [
    {
     "name": "stdout",
     "output_type": "stream",
     "text": [
      "['RAHUL', 'SONIA', 'PRIYANKA']\n",
      "['rahul', 'sonia', 'priyanka']\n"
     ]
    }
   ],
   "source": [
    "enames = ['rahul', 'sonia', 'priyanka']\n",
    "\n",
    "def convert_Upper(name):\n",
    "    return name.upper()\n",
    "\n",
    "new_Names= map(convert_Upper,enames)\n",
    "\n",
    "print(list(new_Names))\n",
    "print(enames)"
   ]
  },
  {
   "cell_type": "code",
   "execution_count": 4,
   "id": "c23a8eb4",
   "metadata": {},
   "outputs": [
    {
     "name": "stdout",
     "output_type": "stream",
     "text": [
      "['RAHUL', 'SONIA', 'PRIYANKA']\n"
     ]
    }
   ],
   "source": [
    "enames = ['rahul', 'sonia', 'priyanka']\n",
    "\n",
    "mapdata=map(lambda name:name.upper(), enames)\n",
    "print(list(mapdata))"
   ]
  },
  {
   "cell_type": "code",
   "execution_count": 8,
   "id": "ff8ceaab",
   "metadata": {},
   "outputs": [
    {
     "name": "stdout",
     "output_type": "stream",
     "text": [
      "[35000, 40000]\n"
     ]
    }
   ],
   "source": [
    "eSal = [35000, 40000, 650000,89000,100000]\n",
    "\n",
    "print(list(filter(lambda sal:sal<50000, eSal)))"
   ]
  },
  {
   "cell_type": "code",
   "execution_count": 9,
   "id": "be57b9f2",
   "metadata": {},
   "outputs": [
    {
     "name": "stdout",
     "output_type": "stream",
     "text": [
      "[35000, 40000]\n"
     ]
    }
   ],
   "source": [
    "eSal = [35000, 40000, 650000,89000,100000]\n",
    "\n",
    "def filter_Sal(sal):\n",
    "    return sal<50000\n",
    "\n",
    "\n",
    "\n",
    "filter_Sal =  filter(filter_Sal, eSal)\n",
    "print(list(filter_Sal))\n"
   ]
  },
  {
   "cell_type": "code",
   "execution_count": null,
   "id": "7ec1ddd4",
   "metadata": {},
   "outputs": [],
   "source": []
  }
 ],
 "metadata": {
  "kernelspec": {
   "display_name": "Python 3 (ipykernel)",
   "language": "python",
   "name": "python3"
  },
  "language_info": {
   "codemirror_mode": {
    "name": "ipython",
    "version": 3
   },
   "file_extension": ".py",
   "mimetype": "text/x-python",
   "name": "python",
   "nbconvert_exporter": "python",
   "pygments_lexer": "ipython3",
   "version": "3.7.0"
  }
 },
 "nbformat": 4,
 "nbformat_minor": 5
}
