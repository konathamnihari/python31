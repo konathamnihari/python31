{
 "cells": [
  {
   "cell_type": "markdown",
   "id": "b2ba87fd",
   "metadata": {},
   "source": [
    "t1 = (1,77,9,3)\n",
    "print(tupple(list(t1).sort()))"
   ]
  },
  {
   "cell_type": "code",
   "execution_count": null,
   "id": "d7775842",
   "metadata": {},
   "outputs": [],
   "source": [
    "t1 = (1,77,9,3) \n",
    "print(tuple(list(t1).sort()))"
   ]
  }
 ],
 "metadata": {
  "kernelspec": {
   "display_name": "Python 3 (ipykernel)",
   "language": "python",
   "name": "python3"
  },
  "language_info": {
   "codemirror_mode": {
    "name": "ipython",
    "version": 3
   },
   "file_extension": ".py",
   "mimetype": "text/x-python",
   "name": "python",
   "nbconvert_exporter": "python",
   "pygments_lexer": "ipython3",
   "version": "3.7.0"
  }
 },
 "nbformat": 4,
 "nbformat_minor": 5
}
