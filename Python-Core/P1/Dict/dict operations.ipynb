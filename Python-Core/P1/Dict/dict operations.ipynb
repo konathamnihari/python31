{
 "cells": [
  {
   "cell_type": "code",
   "execution_count": 1,
   "id": "9d46d134",
   "metadata": {},
   "outputs": [
    {
     "data": {
      "text/plain": [
       "'\\ndict.keys()\\ndict.values()\\ndict.items()\\n\\n'"
      ]
     },
     "execution_count": 1,
     "metadata": {},
     "output_type": "execute_result"
    }
   ],
   "source": [
    "user = {\"id\":1,\"first_name\":\"Chad\",\"last_name\":\"Dedmam\",\"email\":\"cdedmam0@tinypic.com\",\"gender\":\"Female\",\"ip_address\":\"199.107.93.78\"}\n",
    "\n",
    "#print all keys \n",
    "#print all valeus\n",
    "#print all key and keys \n",
    "\n",
    "'''\n",
    "dict.keys()\n",
    "dict.values()\n",
    "dict.items()\n",
    "\n",
    "'''"
   ]
  },
  {
   "cell_type": "code",
   "execution_count": 2,
   "id": "a02627bd",
   "metadata": {},
   "outputs": [
    {
     "name": "stdout",
     "output_type": "stream",
     "text": [
      "dict_keys(['id', 'first_name', 'last_name', 'email', 'gender', 'ip_address'])\n"
     ]
    }
   ],
   "source": [
    "user = {\"id\":1,\"first_name\":\"Chad\",\"last_name\":\"Dedmam\",\"email\":\"cdedmam0@tinypic.com\",\"gender\":\"Female\",\"ip_address\":\"199.107.93.78\"}\n",
    "\n",
    "print(user.keys())"
   ]
  },
  {
   "cell_type": "code",
   "execution_count": 3,
   "id": "d017436d",
   "metadata": {},
   "outputs": [
    {
     "name": "stdout",
     "output_type": "stream",
     "text": [
      "id\n",
      "first_name\n",
      "last_name\n",
      "email\n",
      "gender\n",
      "ip_address\n"
     ]
    }
   ],
   "source": [
    "user = {\"id\":1,\"first_name\":\"Chad\",\"last_name\":\"Dedmam\",\"email\":\"cdedmam0@tinypic.com\",\"gender\":\"Female\",\"ip_address\":\"199.107.93.78\"}\n",
    "\n",
    "for key in user.keys():\n",
    "    print(key)"
   ]
  },
  {
   "cell_type": "code",
   "execution_count": 4,
   "id": "89e1f834",
   "metadata": {},
   "outputs": [
    {
     "name": "stdout",
     "output_type": "stream",
     "text": [
      "1\n",
      "Chad\n",
      "Dedmam\n",
      "cdedmam0@tinypic.com\n",
      "Female\n",
      "199.107.93.78\n"
     ]
    }
   ],
   "source": [
    "user = {\"id\":1,\"first_name\":\"Chad\",\"last_name\":\"Dedmam\",\"email\":\"cdedmam0@tinypic.com\",\"gender\":\"Female\",\"ip_address\":\"199.107.93.78\"}\n",
    "\n",
    "for value in user.values():\n",
    "    print(value)"
   ]
  },
  {
   "cell_type": "code",
   "execution_count": 5,
   "id": "ef71d41b",
   "metadata": {},
   "outputs": [
    {
     "ename": "SyntaxError",
     "evalue": "invalid syntax (4082029099.py, line 4)",
     "output_type": "error",
     "traceback": [
      "\u001b[1;36m  File \u001b[1;32m\"C:\\Users\\IstaSoft\\AppData\\Local\\Temp\\ipykernel_16956\\4082029099.py\"\u001b[1;36m, line \u001b[1;32m4\u001b[0m\n\u001b[1;33m    print(key,\":\"value)\u001b[0m\n\u001b[1;37m                     ^\u001b[0m\n\u001b[1;31mSyntaxError\u001b[0m\u001b[1;31m:\u001b[0m invalid syntax\n"
     ]
    }
   ],
   "source": [
    "user = {\"id\":1,\"first_name\":\"Chad\",\"last_name\":\"Dedmam\",\"email\":\"cdedmam0@tinypic.com\",\"gender\":\"Female\",\"ip_address\":\"199.107.93.78\"}\n",
    "\n",
    "for key,value in user.items():\n",
    "    print(key,\":\"value)"
   ]
  },
  {
   "cell_type": "code",
   "execution_count": 6,
   "id": "7c777245",
   "metadata": {},
   "outputs": [
    {
     "name": "stdout",
     "output_type": "stream",
     "text": [
      "id : 1\n",
      "first_name : Chad\n",
      "last_name : Dedmam\n",
      "email : cdedmam0@tinypic.com\n",
      "gender : Female\n",
      "ip_address : 199.107.93.78\n"
     ]
    }
   ],
   "source": [
    "user = {\"id\":1,\"first_name\":\"Chad\",\"last_name\":\"Dedmam\",\"email\":\"cdedmam0@tinypic.com\",\"gender\":\"Female\",\"ip_address\":\"199.107.93.78\"}\n",
    "\n",
    "for key,value in user.items():\n",
    "    print(key,\":\",value)"
   ]
  },
  {
   "cell_type": "code",
   "execution_count": 8,
   "id": "fb14b903",
   "metadata": {},
   "outputs": [
    {
     "name": "stdout",
     "output_type": "stream",
     "text": [
      "6\n",
      "{}\n"
     ]
    }
   ],
   "source": [
    "user = {\"id\":1,\"first_name\":\"Chad\",\"last_name\":\"Dedmam\",\"email\":\"cdedmam0@tinypic.com\",\"gender\":\"Female\",\"ip_address\":\"199.107.93.78\"}\n",
    "\n",
    "print(len(user))\n",
    "user.clear()\n",
    "\n",
    "print(user)"
   ]
  },
  {
   "cell_type": "code",
   "execution_count": null,
   "id": "17bf037e",
   "metadata": {},
   "outputs": [],
   "source": []
  }
 ],
 "metadata": {
  "kernelspec": {
   "display_name": "Python 3 (ipykernel)",
   "language": "python",
   "name": "python3"
  },
  "language_info": {
   "codemirror_mode": {
    "name": "ipython",
    "version": 3
   },
   "file_extension": ".py",
   "mimetype": "text/x-python",
   "name": "python",
   "nbconvert_exporter": "python",
   "pygments_lexer": "ipython3",
   "version": "3.7.0"
  }
 },
 "nbformat": 4,
 "nbformat_minor": 5
}
