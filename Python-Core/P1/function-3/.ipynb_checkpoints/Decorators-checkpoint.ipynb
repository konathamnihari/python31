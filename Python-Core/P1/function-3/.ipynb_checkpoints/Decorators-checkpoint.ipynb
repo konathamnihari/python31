{
 "cells": [
  {
   "cell_type": "code",
   "execution_count": 1,
   "id": "0702daec",
   "metadata": {},
   "outputs": [],
   "source": [
    "#decorator -- is function take one as argument, and return extended fun.\n",
    "\n"
   ]
  },
  {
   "cell_type": "code",
   "execution_count": 3,
   "id": "d0ab9327",
   "metadata": {},
   "outputs": [
    {
     "name": "stdout",
     "output_type": "stream",
     "text": [
      "Hello,GM Rahul\n",
      "Hello,GM Sonia\n",
      "Hello,GM Modi\n",
      "Hello,GM Priyanka\n"
     ]
    }
   ],
   "source": [
    "def employee(name):\n",
    "    print(\"Hello,GM\", name)\n",
    "    \n",
    "    \n",
    "employee(\"Rahul\")\n",
    "employee(\"Sonia\")\n",
    "employee(\"Modi\")\n",
    "employee(\"Priyanka\")"
   ]
  },
  {
   "cell_type": "code",
   "execution_count": 4,
   "id": "9d833284",
   "metadata": {},
   "outputs": [
    {
     "ename": "NameError",
     "evalue": "name 'verify' is not defined",
     "output_type": "error",
     "traceback": [
      "\u001b[1;31m---------------------------------------------------------------------------\u001b[0m",
      "\u001b[1;31mNameError\u001b[0m                                 Traceback (most recent call last)",
      "\u001b[1;32m~\\AppData\\Local\\Temp\\ipykernel_19940\\2713377814.py\u001b[0m in \u001b[0;36m<module>\u001b[1;34m\u001b[0m\n\u001b[1;32m----> 1\u001b[1;33m \u001b[1;33m@\u001b[0m\u001b[0mverify\u001b[0m\u001b[1;33m\u001b[0m\u001b[0m\n\u001b[0m\u001b[0;32m      2\u001b[0m \u001b[1;32mdef\u001b[0m \u001b[0memployee\u001b[0m\u001b[1;33m(\u001b[0m\u001b[0mname\u001b[0m\u001b[1;33m)\u001b[0m\u001b[1;33m:\u001b[0m\u001b[1;33m\u001b[0m\u001b[0m\n\u001b[0;32m      3\u001b[0m     \u001b[0mprint\u001b[0m\u001b[1;33m(\u001b[0m\u001b[1;34m\"Hello,GM\"\u001b[0m\u001b[1;33m,\u001b[0m \u001b[0mname\u001b[0m\u001b[1;33m)\u001b[0m\u001b[1;33m\u001b[0m\u001b[0m\n\u001b[0;32m      4\u001b[0m \u001b[1;33m\u001b[0m\u001b[0m\n\u001b[0;32m      5\u001b[0m \u001b[1;33m\u001b[0m\u001b[0m\n",
      "\u001b[1;31mNameError\u001b[0m: name 'verify' is not defined"
     ]
    }
   ],
   "source": [
    "\n",
    "@verify\n",
    "def employee(name):\n",
    "    print(\"Hello,GM\", name)\n",
    "    \n",
    "    \n",
    "employee(\"Rahul\")\n",
    "employee(\"Sonia\")\n",
    "employee(\"Modi\")\n",
    "employee(\"Priyanka\")"
   ]
  },
  {
   "cell_type": "code",
   "execution_count": 5,
   "id": "eabcdb9c",
   "metadata": {},
   "outputs": [
    {
     "name": "stdout",
     "output_type": "stream",
     "text": [
      "Hello,GM Rahul\n",
      "Hello,GM Sonia\n",
      "Indian PM\n",
      "Hello,GM Priyanka\n"
     ]
    }
   ],
   "source": [
    "def verify(func):\n",
    "    \n",
    "    def inner(name):\n",
    "        if name ==\"Modi\":\n",
    "            print(\"Indian PM\")\n",
    "        else:\n",
    "            func(name)  \n",
    "            \n",
    "    return inner\n",
    "\n",
    "\n",
    "@verify\n",
    "def employee(name):\n",
    "    print(\"Hello,GM\", name)\n",
    "    \n",
    "    \n",
    "employee(\"Rahul\")\n",
    "employee(\"Sonia\")\n",
    "employee(\"Modi\")\n",
    "employee(\"Priyanka\")"
   ]
  },
  {
   "cell_type": "code",
   "execution_count": 7,
   "id": "93562f52",
   "metadata": {},
   "outputs": [
    {
     "name": "stdout",
     "output_type": "stream",
     "text": [
      "Hello,GM Rahul\n",
      "Indian PM\n"
     ]
    }
   ],
   "source": [
    "def verify(func):\n",
    "    \n",
    "    def inner(name):\n",
    "        if name ==\"Modi\":\n",
    "            print(\"Indian PM\")\n",
    "        else:\n",
    "            func(name)  \n",
    "            \n",
    "    return inner\n",
    "\n",
    "\n",
    "def employee(name):\n",
    "    print(\"Hello,GM\", name)\n",
    "\n",
    "\n",
    "x = verify(employee)\n",
    "x(\"Rahul\")\n",
    "x(\"Modi\")"
   ]
  },
  {
   "cell_type": "code",
   "execution_count": 8,
   "id": "098aec40",
   "metadata": {},
   "outputs": [
    {
     "ename": "SyntaxError",
     "evalue": "invalid syntax (1385860117.py, line 1)",
     "output_type": "error",
     "traceback": [
      "\u001b[1;36m  File \u001b[1;32m\"C:\\Users\\IstaSoft\\AppData\\Local\\Temp\\ipykernel_19940\\1385860117.py\"\u001b[1;36m, line \u001b[1;32m1\u001b[0m\n\u001b[1;33m    cal_Val(a,b):\u001b[0m\n\u001b[1;37m                 ^\u001b[0m\n\u001b[1;31mSyntaxError\u001b[0m\u001b[1;31m:\u001b[0m invalid syntax\n"
     ]
    }
   ],
   "source": [
    "\n",
    "cal_Val(a,b):\n",
    "    return a/b\n",
    "\n",
    "print(cal_Val(20,10))\n"
   ]
  },
  {
   "cell_type": "code",
   "execution_count": null,
   "id": "6c7cca71",
   "metadata": {},
   "outputs": [],
   "source": []
  },
  {
   "cell_type": "code",
   "execution_count": 10,
   "id": "85a801bb",
   "metadata": {},
   "outputs": [
    {
     "name": "stdout",
     "output_type": "stream",
     "text": [
      "2.0\n"
     ]
    },
    {
     "ename": "ZeroDivisionError",
     "evalue": "division by zero",
     "output_type": "error",
     "traceback": [
      "\u001b[1;31m---------------------------------------------------------------------------\u001b[0m",
      "\u001b[1;31mZeroDivisionError\u001b[0m                         Traceback (most recent call last)",
      "\u001b[1;32m~\\AppData\\Local\\Temp\\ipykernel_19940\\1089741232.py\u001b[0m in \u001b[0;36m<module>\u001b[1;34m\u001b[0m\n\u001b[0;32m      3\u001b[0m \u001b[1;33m\u001b[0m\u001b[0m\n\u001b[0;32m      4\u001b[0m \u001b[0mprint\u001b[0m\u001b[1;33m(\u001b[0m\u001b[0mcal_Val\u001b[0m\u001b[1;33m(\u001b[0m\u001b[1;36m20\u001b[0m\u001b[1;33m,\u001b[0m\u001b[1;36m10\u001b[0m\u001b[1;33m)\u001b[0m\u001b[1;33m)\u001b[0m\u001b[1;33m\u001b[0m\u001b[0m\n\u001b[1;32m----> 5\u001b[1;33m \u001b[0mprint\u001b[0m\u001b[1;33m(\u001b[0m\u001b[0mcal_Val\u001b[0m\u001b[1;33m(\u001b[0m\u001b[1;36m20\u001b[0m\u001b[1;33m,\u001b[0m\u001b[1;36m0\u001b[0m\u001b[1;33m)\u001b[0m\u001b[1;33m)\u001b[0m\u001b[1;33m\u001b[0m\u001b[0m\n\u001b[0m",
      "\u001b[1;32m~\\AppData\\Local\\Temp\\ipykernel_19940\\1089741232.py\u001b[0m in \u001b[0;36mcal_Val\u001b[1;34m(a, b)\u001b[0m\n\u001b[0;32m      1\u001b[0m \u001b[1;32mdef\u001b[0m \u001b[0mcal_Val\u001b[0m\u001b[1;33m(\u001b[0m\u001b[0ma\u001b[0m\u001b[1;33m,\u001b[0m\u001b[0mb\u001b[0m\u001b[1;33m)\u001b[0m\u001b[1;33m:\u001b[0m\u001b[1;33m\u001b[0m\u001b[0m\n\u001b[1;32m----> 2\u001b[1;33m     \u001b[1;32mreturn\u001b[0m \u001b[0ma\u001b[0m\u001b[1;33m/\u001b[0m\u001b[0mb\u001b[0m\u001b[1;33m\u001b[0m\u001b[0m\n\u001b[0m\u001b[0;32m      3\u001b[0m \u001b[1;33m\u001b[0m\u001b[0m\n\u001b[0;32m      4\u001b[0m \u001b[0mprint\u001b[0m\u001b[1;33m(\u001b[0m\u001b[0mcal_Val\u001b[0m\u001b[1;33m(\u001b[0m\u001b[1;36m20\u001b[0m\u001b[1;33m,\u001b[0m\u001b[1;36m10\u001b[0m\u001b[1;33m)\u001b[0m\u001b[1;33m)\u001b[0m\u001b[1;33m\u001b[0m\u001b[0m\n\u001b[0;32m      5\u001b[0m \u001b[0mprint\u001b[0m\u001b[1;33m(\u001b[0m\u001b[0mcal_Val\u001b[0m\u001b[1;33m(\u001b[0m\u001b[1;36m20\u001b[0m\u001b[1;33m,\u001b[0m\u001b[1;36m0\u001b[0m\u001b[1;33m)\u001b[0m\u001b[1;33m)\u001b[0m\u001b[1;33m\u001b[0m\u001b[0m\n",
      "\u001b[1;31mZeroDivisionError\u001b[0m: division by zero"
     ]
    }
   ],
   "source": [
    "\n",
    "def cal_Val(a,b):\n",
    "    return a/b\n",
    "\n",
    "print(cal_Val(20,10))\n",
    "print(cal_Val(20,0))"
   ]
  },
  {
   "cell_type": "code",
   "execution_count": 12,
   "id": "42dba2f6",
   "metadata": {},
   "outputs": [
    {
     "name": "stdout",
     "output_type": "stream",
     "text": [
      "2.0\n",
      "Cant Divide by Zero\n",
      "None\n"
     ]
    }
   ],
   "source": [
    "def smart_Div(calc):\n",
    "    \n",
    "    def inner(a,b):\n",
    "        if b==0:\n",
    "            print(\"Cant Divide by Zero\")\n",
    "        else:\n",
    "            return calc(a,b)\n",
    "    return inner\n",
    "\n",
    "\n",
    "@smart_Div\n",
    "def cal_Val(a,b):\n",
    "    return a/b\n",
    "\n",
    "print(cal_Val(20,10))\n",
    "print(cal_Val(20,0))"
   ]
  },
  {
   "cell_type": "code",
   "execution_count": 14,
   "id": "31d71492",
   "metadata": {},
   "outputs": [
    {
     "name": "stdout",
     "output_type": "stream",
     "text": [
      "2.0\n",
      "Cant Divide by Zero\n",
      "None\n"
     ]
    }
   ],
   "source": [
    "def smart_Div(calc):\n",
    "    \n",
    "    def inner(a,b):\n",
    "        if b==0:\n",
    "            print(\"Cant Divide by Zero\")\n",
    "        else:\n",
    "            return calc(a,b)\n",
    "    return inner\n",
    "\n",
    "\n",
    "def cal_Val(a,b):\n",
    "    return a/b\n",
    "\n",
    "div=smart_Div(cal_Val)\n",
    "print(div(10,5))\n",
    "print(div(10,0))\n"
   ]
  },
  {
   "cell_type": "code",
   "execution_count": null,
   "id": "d75c8ccf",
   "metadata": {},
   "outputs": [],
   "source": []
  }
 ],
 "metadata": {
  "kernelspec": {
   "display_name": "Python 3 (ipykernel)",
   "language": "python",
   "name": "python3"
  },
  "language_info": {
   "codemirror_mode": {
    "name": "ipython",
    "version": 3
   },
   "file_extension": ".py",
   "mimetype": "text/x-python",
   "name": "python",
   "nbconvert_exporter": "python",
   "pygments_lexer": "ipython3",
   "version": "3.7.0"
  }
 },
 "nbformat": 4,
 "nbformat_minor": 5
}
