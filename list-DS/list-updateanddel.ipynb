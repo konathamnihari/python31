{
 "cells": [
  {
   "cell_type": "code",
   "execution_count": 1,
   "id": "961a3dc7",
   "metadata": {},
   "outputs": [
    {
     "ename": "TypeError",
     "evalue": "append() takes exactly one argument (0 given)",
     "output_type": "error",
     "traceback": [
      "\u001b[1;31m---------------------------------------------------------------------------\u001b[0m",
      "\u001b[1;31mTypeError\u001b[0m                                 Traceback (most recent call last)",
      "\u001b[1;32m~\\AppData\\Local\\Temp\\ipykernel_10264\\4267772397.py\u001b[0m in \u001b[0;36m<module>\u001b[1;34m\u001b[0m\n\u001b[0;32m      1\u001b[0m \u001b[0menames\u001b[0m \u001b[1;33m=\u001b[0m \u001b[1;33m[\u001b[0m\u001b[1;34m\"Rahul\"\u001b[0m\u001b[1;33m,\u001b[0m\u001b[1;34m\"Sonia\"\u001b[0m\u001b[1;33m,\u001b[0m\u001b[1;34m\"Priyanka\"\u001b[0m\u001b[1;33m]\u001b[0m\u001b[1;33m\u001b[0m\u001b[0m\n\u001b[1;32m----> 2\u001b[1;33m \u001b[0menames\u001b[0m\u001b[1;33m.\u001b[0m\u001b[0mappend\u001b[0m\u001b[1;33m(\u001b[0m\u001b[1;33m)\u001b[0m\u001b[1;33m\u001b[0m\u001b[0m\n\u001b[0m",
      "\u001b[1;31mTypeError\u001b[0m: append() takes exactly one argument (0 given)"
     ]
    }
   ],
   "source": [
    "enames = [\"Rahul\",\"Sonia\",\"Priyanka\"]\n",
    "enames.append()"
   ]
  },
  {
   "cell_type": "code",
   "execution_count": 2,
   "id": "befc263c",
   "metadata": {},
   "outputs": [
    {
     "name": "stdout",
     "output_type": "stream",
     "text": [
      "['Rahul', 'Sonia', 'Priyanka', 'Modi']\n"
     ]
    }
   ],
   "source": [
    "enames = [\"Rahul\",\"Sonia\",\"Priyanka\"]\n",
    "enames.append(\"Modi\")\n",
    "\n",
    "print(enames)"
   ]
  },
  {
   "cell_type": "code",
   "execution_count": 3,
   "id": "8e5abc0f",
   "metadata": {},
   "outputs": [
    {
     "ename": "TypeError",
     "evalue": "insert() takes exactly 2 arguments (0 given)",
     "output_type": "error",
     "traceback": [
      "\u001b[1;31m---------------------------------------------------------------------------\u001b[0m",
      "\u001b[1;31mTypeError\u001b[0m                                 Traceback (most recent call last)",
      "\u001b[1;32m~\\AppData\\Local\\Temp\\ipykernel_10264\\1947633650.py\u001b[0m in \u001b[0;36m<module>\u001b[1;34m\u001b[0m\n\u001b[0;32m      1\u001b[0m \u001b[0menames\u001b[0m\u001b[1;33m=\u001b[0m  \u001b[1;33m[\u001b[0m\u001b[1;34m'Rahul'\u001b[0m\u001b[1;33m,\u001b[0m \u001b[1;34m'Sonia'\u001b[0m\u001b[1;33m,\u001b[0m \u001b[1;34m'Priyanka'\u001b[0m\u001b[1;33m,\u001b[0m \u001b[1;34m'Modi'\u001b[0m\u001b[1;33m]\u001b[0m\u001b[1;33m\u001b[0m\u001b[0m\n\u001b[0;32m      2\u001b[0m \u001b[1;33m\u001b[0m\u001b[0m\n\u001b[1;32m----> 3\u001b[1;33m \u001b[0menames\u001b[0m\u001b[1;33m.\u001b[0m\u001b[0minsert\u001b[0m\u001b[1;33m(\u001b[0m\u001b[1;33m)\u001b[0m\u001b[1;33m\u001b[0m\u001b[0m\n\u001b[0m",
      "\u001b[1;31mTypeError\u001b[0m: insert() takes exactly 2 arguments (0 given)"
     ]
    }
   ],
   "source": [
    "enames=  ['Rahul', 'Sonia', 'Priyanka', 'Modi']\n",
    "\n",
    "enames.insert()"
   ]
  },
  {
   "cell_type": "code",
   "execution_count": 4,
   "id": "469a1a2e",
   "metadata": {},
   "outputs": [
    {
     "name": "stdout",
     "output_type": "stream",
     "text": [
      "['Amith', 'Rahul', 'Sonia', 'Priyanka', 'Modi']\n"
     ]
    }
   ],
   "source": [
    "enames=  ['Rahul', 'Sonia', 'Priyanka', 'Modi']\n",
    "#           0         1          2         3\n",
    "enames.insert(0,\"Amith\")\n",
    "\n",
    "print(enames)"
   ]
  },
  {
   "cell_type": "code",
   "execution_count": 7,
   "id": "ee19b246",
   "metadata": {},
   "outputs": [
    {
     "name": "stdout",
     "output_type": "stream",
     "text": [
      "[10, 20, 30, 40, 'h', 'e', 'l', 'l', 'o']\n"
     ]
    }
   ],
   "source": [
    "l1 = [10,20,30,40]\n",
    "l2 = [50,60,70,80]\n",
    "#l1.extend(l2)\n",
    "l1.extend(\"hello\")\n",
    "print(l1)"
   ]
  },
  {
   "cell_type": "code",
   "execution_count": 8,
   "id": "ff6192b2",
   "metadata": {},
   "outputs": [
    {
     "name": "stdout",
     "output_type": "stream",
     "text": [
      "[10, 20, 30, 40, 80, 50, 60, 70]\n"
     ]
    }
   ],
   "source": [
    "l1 = [10,20,30,40]\n",
    "l2 = [50,60,70,80]\n",
    "#l1.extend(l2)\n",
    "#l1.extend(\"hello\")\n",
    "l1.extend({50,60,70,80})\n",
    "print(l1)"
   ]
  },
  {
   "cell_type": "code",
   "execution_count": 9,
   "id": "45e0fe71",
   "metadata": {},
   "outputs": [
    {
     "ename": "TypeError",
     "evalue": "remove() takes exactly one argument (0 given)",
     "output_type": "error",
     "traceback": [
      "\u001b[1;31m---------------------------------------------------------------------------\u001b[0m",
      "\u001b[1;31mTypeError\u001b[0m                                 Traceback (most recent call last)",
      "\u001b[1;32m~\\AppData\\Local\\Temp\\ipykernel_10264\\2036398550.py\u001b[0m in \u001b[0;36m<module>\u001b[1;34m\u001b[0m\n\u001b[0;32m      1\u001b[0m \u001b[0menames\u001b[0m\u001b[1;33m=\u001b[0m \u001b[1;33m[\u001b[0m\u001b[1;34m'Amith'\u001b[0m\u001b[1;33m,\u001b[0m \u001b[1;34m'Rahul'\u001b[0m\u001b[1;33m,\u001b[0m \u001b[1;34m'Sonia'\u001b[0m\u001b[1;33m,\u001b[0m \u001b[1;34m'Priyanka'\u001b[0m\u001b[1;33m,\u001b[0m \u001b[1;34m'Modi'\u001b[0m\u001b[1;33m]\u001b[0m\u001b[1;33m\u001b[0m\u001b[0m\n\u001b[0;32m      2\u001b[0m \u001b[1;33m\u001b[0m\u001b[0m\n\u001b[1;32m----> 3\u001b[1;33m \u001b[0menames\u001b[0m\u001b[1;33m.\u001b[0m\u001b[0mremove\u001b[0m\u001b[1;33m(\u001b[0m\u001b[1;33m)\u001b[0m\u001b[1;33m\u001b[0m\u001b[0m\n\u001b[0m",
      "\u001b[1;31mTypeError\u001b[0m: remove() takes exactly one argument (0 given)"
     ]
    }
   ],
   "source": [
    "enames= ['Amith', 'Rahul', 'Sonia', 'Priyanka', 'Modi']\n",
    "\n",
    "enames.remove()"
   ]
  },
  {
   "cell_type": "code",
   "execution_count": 10,
   "id": "45ce3bea",
   "metadata": {},
   "outputs": [
    {
     "name": "stdout",
     "output_type": "stream",
     "text": [
      "['Amith', 'Rahul', 'Sonia', 'Priyanka']\n"
     ]
    }
   ],
   "source": [
    "enames= ['Amith', 'Rahul', 'Sonia', 'Priyanka', 'Modi']\n",
    "\n",
    "enames.remove(\"Modi\")\n",
    "\n",
    "print(enames)"
   ]
  },
  {
   "cell_type": "code",
   "execution_count": 11,
   "id": "d1bd0ce7",
   "metadata": {},
   "outputs": [
    {
     "ename": "ValueError",
     "evalue": "list.remove(x): x not in list",
     "output_type": "error",
     "traceback": [
      "\u001b[1;31m---------------------------------------------------------------------------\u001b[0m",
      "\u001b[1;31mValueError\u001b[0m                                Traceback (most recent call last)",
      "\u001b[1;32m~\\AppData\\Local\\Temp\\ipykernel_10264\\3175177551.py\u001b[0m in \u001b[0;36m<module>\u001b[1;34m\u001b[0m\n\u001b[0;32m      1\u001b[0m \u001b[0menames\u001b[0m\u001b[1;33m=\u001b[0m \u001b[1;33m[\u001b[0m\u001b[1;34m'Amith'\u001b[0m\u001b[1;33m,\u001b[0m \u001b[1;34m'Rahul'\u001b[0m\u001b[1;33m,\u001b[0m \u001b[1;34m'Sonia'\u001b[0m\u001b[1;33m,\u001b[0m \u001b[1;34m'Priyanka'\u001b[0m\u001b[1;33m,\u001b[0m \u001b[1;34m'Modi'\u001b[0m\u001b[1;33m]\u001b[0m\u001b[1;33m\u001b[0m\u001b[0m\n\u001b[0;32m      2\u001b[0m \u001b[1;33m\u001b[0m\u001b[0m\n\u001b[1;32m----> 3\u001b[1;33m \u001b[0menames\u001b[0m\u001b[1;33m.\u001b[0m\u001b[0mremove\u001b[0m\u001b[1;33m(\u001b[0m\u001b[1;36m100.5\u001b[0m\u001b[1;33m)\u001b[0m\u001b[1;33m\u001b[0m\u001b[0m\n\u001b[0m\u001b[0;32m      4\u001b[0m \u001b[1;33m\u001b[0m\u001b[0m\n\u001b[0;32m      5\u001b[0m \u001b[0mprint\u001b[0m\u001b[1;33m(\u001b[0m\u001b[0menames\u001b[0m\u001b[1;33m)\u001b[0m\u001b[1;33m\u001b[0m\u001b[0m\n",
      "\u001b[1;31mValueError\u001b[0m: list.remove(x): x not in list"
     ]
    }
   ],
   "source": [
    "enames= ['Amith', 'Rahul', 'Sonia', 'Priyanka', 'Modi']\n",
    "\n",
    "enames.remove(100.5)\n",
    "\n",
    "print(enames)"
   ]
  },
  {
   "cell_type": "code",
   "execution_count": 12,
   "id": "891ce04e",
   "metadata": {},
   "outputs": [
    {
     "name": "stdout",
     "output_type": "stream",
     "text": [
      "['Amith', 'Rahul', 'Sonia', 'Priyanka']\n"
     ]
    }
   ],
   "source": [
    "enames= ['Amith', 'Rahul', 'Sonia', 'Priyanka', 'Modi']\n",
    "\n",
    "enames.pop()  # remove last elemetn from list\n",
    "\n",
    "print(enames)\n"
   ]
  },
  {
   "cell_type": "code",
   "execution_count": 13,
   "id": "ddba2e88",
   "metadata": {},
   "outputs": [
    {
     "name": "stdout",
     "output_type": "stream",
     "text": [
      "['Amith', 'Rahul', 'Sonia', 'Priyanka']\n",
      "Modi\n"
     ]
    }
   ],
   "source": [
    "enames= ['Amith', 'Rahul', 'Sonia', 'Priyanka', 'Modi']\n",
    "\n",
    "ele = enames.pop()  # remove last elemetn from list and return it\n",
    "\n",
    "print(enames)\n",
    "print(ele)"
   ]
  },
  {
   "cell_type": "code",
   "execution_count": 14,
   "id": "143baf61",
   "metadata": {},
   "outputs": [
    {
     "name": "stdout",
     "output_type": "stream",
     "text": [
      "[]\n"
     ]
    }
   ],
   "source": [
    "enames= ['Amith', 'Rahul', 'Sonia', 'Priyanka', 'Modi']\n",
    "\n",
    "enames.clear()\n",
    "print(enames)"
   ]
  },
  {
   "cell_type": "code",
   "execution_count": 15,
   "id": "c719bd81",
   "metadata": {},
   "outputs": [
    {
     "ename": "NameError",
     "evalue": "name 'enames' is not defined",
     "output_type": "error",
     "traceback": [
      "\u001b[1;31m---------------------------------------------------------------------------\u001b[0m",
      "\u001b[1;31mNameError\u001b[0m                                 Traceback (most recent call last)",
      "\u001b[1;32m~\\AppData\\Local\\Temp\\ipykernel_10264\\2537812942.py\u001b[0m in \u001b[0;36m<module>\u001b[1;34m\u001b[0m\n\u001b[0;32m      3\u001b[0m \u001b[1;32mdel\u001b[0m \u001b[0menames\u001b[0m\u001b[1;33m\u001b[0m\u001b[0m\n\u001b[0;32m      4\u001b[0m \u001b[1;33m\u001b[0m\u001b[0m\n\u001b[1;32m----> 5\u001b[1;33m \u001b[0mprint\u001b[0m\u001b[1;33m(\u001b[0m\u001b[0menames\u001b[0m\u001b[1;33m)\u001b[0m\u001b[1;33m\u001b[0m\u001b[0m\n\u001b[0m",
      "\u001b[1;31mNameError\u001b[0m: name 'enames' is not defined"
     ]
    }
   ],
   "source": [
    "enames= ['Amith', 'Rahul', 'Sonia', 'Priyanka', 'Modi']\n",
    "\n",
    "del enames \n",
    "\n",
    "print(enames)"
   ]
  },
  {
   "cell_type": "code",
   "execution_count": null,
   "id": "67e529f1",
   "metadata": {},
   "outputs": [],
   "source": []
  }
 ],
 "metadata": {
  "kernelspec": {
   "display_name": "Python 3 (ipykernel)",
   "language": "python",
   "name": "python3"
  },
  "language_info": {
   "codemirror_mode": {
    "name": "ipython",
    "version": 3
   },
   "file_extension": ".py",
   "mimetype": "text/x-python",
   "name": "python",
   "nbconvert_exporter": "python",
   "pygments_lexer": "ipython3",
   "version": "3.7.0"
  }
 },
 "nbformat": 4,
 "nbformat_minor": 5
}
