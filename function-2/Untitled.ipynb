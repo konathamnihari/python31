{
 "cells": [
  {
   "cell_type": "code",
   "execution_count": 2,
   "id": "0990873a",
   "metadata": {},
   "outputs": [
    {
     "name": "stdout",
     "output_type": "stream",
     "text": [
      "outer function\n"
     ]
    },
    {
     "ename": "NameError",
     "evalue": "name 'inner' is not defined",
     "output_type": "error",
     "traceback": [
      "\u001b[1;31m---------------------------------------------------------------------------\u001b[0m",
      "\u001b[1;31mNameError\u001b[0m                                 Traceback (most recent call last)",
      "\u001b[1;32m~\\AppData\\Local\\Temp\\ipykernel_13116\\1486583886.py\u001b[0m in \u001b[0;36m<module>\u001b[1;34m\u001b[0m\n\u001b[0;32m     10\u001b[0m \u001b[1;33m\u001b[0m\u001b[0m\n\u001b[0;32m     11\u001b[0m \u001b[0mouter\u001b[0m\u001b[1;33m(\u001b[0m\u001b[1;33m)\u001b[0m\u001b[1;33m\u001b[0m\u001b[0m\n\u001b[1;32m---> 12\u001b[1;33m \u001b[0minner\u001b[0m\u001b[1;33m(\u001b[0m\u001b[1;33m)\u001b[0m\u001b[1;33m\u001b[0m\u001b[0m\n\u001b[0m",
      "\u001b[1;31mNameError\u001b[0m: name 'inner' is not defined"
     ]
    }
   ],
   "source": [
    "def outer():\n",
    "    print('outer function')\n",
    "    a=100\n",
    "    b=200\n",
    "    \n",
    "    def inner():\n",
    "        print(\"inner function\")\n",
    "    \n",
    "   \n",
    "\n",
    "outer()\n",
    "inner()\n"
   ]
  },
  {
   "cell_type": "code",
   "execution_count": 5,
   "id": "41d3a7eb",
   "metadata": {},
   "outputs": [
    {
     "name": "stdout",
     "output_type": "stream",
     "text": [
      "500\n",
      "500\n"
     ]
    }
   ],
   "source": [
    "\n",
    "#min_Bal = 500    # global variable \n",
    "def get_Bal():\n",
    "    min_Bal = 500\n",
    "    print(min_Bal)\n",
    "\n",
    "\n",
    "def account():\n",
    "    print(min_Bal)\n",
    "\n",
    "get_Bal()\n",
    "account()"
   ]
  },
  {
   "cell_type": "code",
   "execution_count": 6,
   "id": "118ea797",
   "metadata": {},
   "outputs": [
    {
     "name": "stdout",
     "output_type": "stream",
     "text": [
      "500\n",
      "500\n"
     ]
    }
   ],
   "source": [
    "def get_Bal():\n",
    "    min_Bal = 500\n",
    "    print(min_Bal)\n",
    "\n",
    "\n",
    "def account():\n",
    "    print(min_Bal)\n",
    "\n",
    "get_Bal()\n",
    "account()"
   ]
  },
  {
   "cell_type": "code",
   "execution_count": null,
   "id": "ad79a86c",
   "metadata": {},
   "outputs": [],
   "source": []
  }
 ],
 "metadata": {
  "kernelspec": {
   "display_name": "Python 3 (ipykernel)",
   "language": "python",
   "name": "python3"
  },
  "language_info": {
   "codemirror_mode": {
    "name": "ipython",
    "version": 3
   },
   "file_extension": ".py",
   "mimetype": "text/x-python",
   "name": "python",
   "nbconvert_exporter": "python",
   "pygments_lexer": "ipython3",
   "version": "3.7.0"
  }
 },
 "nbformat": 4,
 "nbformat_minor": 5
}
