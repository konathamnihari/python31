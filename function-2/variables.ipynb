{
 "cells": [
  {
   "cell_type": "code",
   "execution_count": 1,
   "id": "38fe6188",
   "metadata": {},
   "outputs": [
    {
     "name": "stdout",
     "output_type": "stream",
     "text": [
      "100\n"
     ]
    }
   ],
   "source": [
    "a=100   # global\n",
    "def get_Details():\n",
    "    pass\n",
    "\n",
    "get_Details()\n",
    "\n",
    "print(a)"
   ]
  },
  {
   "cell_type": "code",
   "execution_count": 2,
   "id": "7975028f",
   "metadata": {},
   "outputs": [
    {
     "name": "stdout",
     "output_type": "stream",
     "text": [
      "300\n",
      "100\n"
     ]
    }
   ],
   "source": [
    "a=100   # global varaible\n",
    "def get_Details():\n",
    "    b = 200\n",
    "    print(a+b)  # 300\n",
    "\n",
    "get_Details()\n",
    "\n",
    "print(a)"
   ]
  },
  {
   "cell_type": "code",
   "execution_count": 3,
   "id": "30922950",
   "metadata": {},
   "outputs": [
    {
     "name": "stdout",
     "output_type": "stream",
     "text": [
      "300\n",
      "100\n"
     ]
    },
    {
     "ename": "NameError",
     "evalue": "name 'b' is not defined",
     "output_type": "error",
     "traceback": [
      "\u001b[1;31m---------------------------------------------------------------------------\u001b[0m",
      "\u001b[1;31mNameError\u001b[0m                                 Traceback (most recent call last)",
      "\u001b[1;32m~\\AppData\\Local\\Temp\\ipykernel_24140\\820323532.py\u001b[0m in \u001b[0;36m<module>\u001b[1;34m\u001b[0m\n\u001b[0;32m      7\u001b[0m \u001b[1;33m\u001b[0m\u001b[0m\n\u001b[0;32m      8\u001b[0m \u001b[0mprint\u001b[0m\u001b[1;33m(\u001b[0m\u001b[0ma\u001b[0m\u001b[1;33m)\u001b[0m\u001b[1;33m\u001b[0m\u001b[0m\n\u001b[1;32m----> 9\u001b[1;33m \u001b[0mprint\u001b[0m\u001b[1;33m(\u001b[0m\u001b[0mb\u001b[0m\u001b[1;33m)\u001b[0m\u001b[1;33m\u001b[0m\u001b[0m\n\u001b[0m\u001b[0;32m     10\u001b[0m \u001b[1;33m\u001b[0m\u001b[0m\n\u001b[0;32m     11\u001b[0m \u001b[1;31m#how to set lobal vairable global variable\u001b[0m\u001b[1;33m\u001b[0m\u001b[1;33m\u001b[0m\u001b[0m\n",
      "\u001b[1;31mNameError\u001b[0m: name 'b' is not defined"
     ]
    }
   ],
   "source": [
    "a=100   # global varaible\n",
    "def get_Details():\n",
    "    b = 200\n",
    "    print(a+b)  # 300\n",
    "\n",
    "get_Details()\n",
    "\n",
    "print(a)\n",
    "print(b)\n",
    "\n",
    "#how to set lobal vairable global variable"
   ]
  },
  {
   "cell_type": "code",
   "execution_count": 4,
   "id": "6895a759",
   "metadata": {},
   "outputs": [
    {
     "name": "stdout",
     "output_type": "stream",
     "text": [
      "300\n",
      "100\n",
      "200\n"
     ]
    }
   ],
   "source": [
    "a=100   # global varaible\n",
    "def get_Details():\n",
    "    global b \n",
    "    b= 200\n",
    "    print(a+b)  # 300\n",
    "\n",
    "get_Details()\n",
    "\n",
    "print(a)   #100\n",
    "print(b)   #200\n",
    "\n",
    "#how to set lobal vairable global variable"
   ]
  },
  {
   "cell_type": "code",
   "execution_count": 6,
   "id": "153122a3",
   "metadata": {},
   "outputs": [
    {
     "name": "stdout",
     "output_type": "stream",
     "text": [
      "Inside Outer function\n",
      "inside inner function\n",
      "inside inner function\n"
     ]
    }
   ],
   "source": [
    "def outer():\n",
    "    print('Inside Outer function')\n",
    "    \n",
    "    def inner():\n",
    "        print(\"inside inner function\")\n",
    "        \n",
    "    inner()\n",
    "    inner()\n",
    "    \n",
    "outer()"
   ]
  },
  {
   "cell_type": "code",
   "execution_count": 7,
   "id": "59bff448",
   "metadata": {},
   "outputs": [
    {
     "name": "stdout",
     "output_type": "stream",
     "text": [
      "Inside Outer function\n",
      "inside inner function\n",
      "inside inner function\n",
      "inside inner function\n"
     ]
    }
   ],
   "source": [
    "def outer():\n",
    "    print('Inside Outer function')\n",
    "    \n",
    "    def inner():\n",
    "        print(\"inside inner function\")\n",
    "        \n",
    "    return inner\n",
    "    \n",
    "ref = outer()\n",
    "\n",
    "ref()\n",
    "ref()\n",
    "ref()"
   ]
  },
  {
   "cell_type": "code",
   "execution_count": null,
   "id": "c5b4277d",
   "metadata": {},
   "outputs": [],
   "source": []
  }
 ],
 "metadata": {
  "kernelspec": {
   "display_name": "Python 3 (ipykernel)",
   "language": "python",
   "name": "python3"
  },
  "language_info": {
   "codemirror_mode": {
    "name": "ipython",
    "version": 3
   },
   "file_extension": ".py",
   "mimetype": "text/x-python",
   "name": "python",
   "nbconvert_exporter": "python",
   "pygments_lexer": "ipython3",
   "version": "3.7.0"
  }
 },
 "nbformat": 4,
 "nbformat_minor": 5
}
