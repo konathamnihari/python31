{
 "cells": [
  {
   "cell_type": "code",
   "execution_count": 1,
   "id": "30146be0",
   "metadata": {},
   "outputs": [
    {
     "name": "stdout",
     "output_type": "stream",
     "text": [
      "30\n",
      "3\n"
     ]
    }
   ],
   "source": [
    "def add(a,b):\n",
    "    return a+b\n",
    "\n",
    "\n",
    "print(add(10,20))\n",
    "print(add(1,2))"
   ]
  },
  {
   "cell_type": "code",
   "execution_count": 3,
   "id": "4dcc3829",
   "metadata": {},
   "outputs": [
    {
     "name": "stdout",
     "output_type": "stream",
     "text": [
      "30\n",
      "3\n"
     ]
    }
   ],
   "source": [
    "add = lambda a,b : a+b\n",
    "\n",
    "print(add(10,20))\n",
    "print(add(1,2))\n"
   ]
  },
  {
   "cell_type": "code",
   "execution_count": 5,
   "id": "7e18b051",
   "metadata": {},
   "outputs": [
    {
     "name": "stdout",
     "output_type": "stream",
     "text": [
      "[35, 36, 37, 38, 39, 40]\n"
     ]
    }
   ],
   "source": [
    "def addOne(mark):\n",
    "    return mark+1\n",
    "\n",
    "marks = [34,35,36,37,38,39]\n",
    "\n",
    "new_Marks=map(addOne, marks)\n",
    "\n",
    "print(list(new_Marks))"
   ]
  },
  {
   "cell_type": "code",
   "execution_count": null,
   "id": "16155ef5",
   "metadata": {},
   "outputs": [],
   "source": [
    "enames = ['rahul', 'sonia', 'priyanka']\n",
    "\n",
    "def convert_Upper():\n",
    "    pass\n",
    "\n",
    "new_Names=map(convert_Upper, enames)\n",
    "\n",
    "print(enames)\n",
    "print(new_Names)\n",
    "\n",
    "\n"
   ]
  }
 ],
 "metadata": {
  "kernelspec": {
   "display_name": "Python 3 (ipykernel)",
   "language": "python",
   "name": "python3"
  },
  "language_info": {
   "codemirror_mode": {
    "name": "ipython",
    "version": 3
   },
   "file_extension": ".py",
   "mimetype": "text/x-python",
   "name": "python",
   "nbconvert_exporter": "python",
   "pygments_lexer": "ipython3",
   "version": "3.7.0"
  }
 },
 "nbformat": 4,
 "nbformat_minor": 5
}
