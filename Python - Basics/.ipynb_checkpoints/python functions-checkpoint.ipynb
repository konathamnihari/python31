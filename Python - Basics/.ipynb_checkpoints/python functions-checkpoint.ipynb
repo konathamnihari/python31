{
 "cells": [
  {
   "cell_type": "code",
   "execution_count": 1,
   "id": "151a6867",
   "metadata": {},
   "outputs": [
    {
     "name": "stdout",
     "output_type": "stream",
     "text": [
      "30\n"
     ]
    }
   ],
   "source": [
    "a=10\n",
    "b=20\n",
    "print(a+b)"
   ]
  },
  {
   "cell_type": "code",
   "execution_count": 2,
   "id": "d4b46f37",
   "metadata": {},
   "outputs": [
    {
     "name": "stdout",
     "output_type": "stream",
     "text": [
      "Hello\n",
      "Good Morning\n"
     ]
    }
   ],
   "source": [
    "print(\"Hello\")\n",
    "print(\"Good Morning\")"
   ]
  },
  {
   "cell_type": "code",
   "execution_count": 3,
   "id": "0c877a9e",
   "metadata": {},
   "outputs": [
    {
     "name": "stdout",
     "output_type": "stream",
     "text": [
      "Employee Id 101 Employee Name: Rahul\n"
     ]
    }
   ],
   "source": [
    "id = 101\n",
    "ename = 'Rahul'\n",
    "print(\"Employee Id\", id, \"Employee Name:\", ename)"
   ]
  },
  {
   "cell_type": "code",
   "execution_count": 4,
   "id": "b97728ac",
   "metadata": {},
   "outputs": [
    {
     "name": "stdout",
     "output_type": "stream",
     "text": [
      "Employee Id 101  \n",
      " Employee Name: Rahul\n"
     ]
    }
   ],
   "source": [
    "id = 101\n",
    "ename = 'Rahul'\n",
    "print(\"Employee Id\", id, \" \\n Employee Name:\", ename)"
   ]
  },
  {
   "cell_type": "code",
   "execution_count": 5,
   "id": "0bec150a",
   "metadata": {},
   "outputs": [
    {
     "name": "stdout",
     "output_type": "stream",
     "text": [
      "Employee Id 101 \t Employee Name: Rahul\n"
     ]
    }
   ],
   "source": [
    "id = 101\n",
    "ename = 'Rahul'\n",
    "print(\"Employee Id\", id, \"\\t Employee Name:\", ename)"
   ]
  },
  {
   "cell_type": "code",
   "execution_count": 6,
   "id": "6e1c2257",
   "metadata": {},
   "outputs": [
    {
     "name": "stdout",
     "output_type": "stream",
     "text": [
      "Hello,\n",
      "Good Morning\n"
     ]
    }
   ],
   "source": [
    "print(\"Hello,\")\n",
    "print(\"Good Morning\")"
   ]
  },
  {
   "cell_type": "code",
   "execution_count": 7,
   "id": "59954534",
   "metadata": {},
   "outputs": [
    {
     "name": "stdout",
     "output_type": "stream",
     "text": [
      "Hello, Good Morning\n"
     ]
    }
   ],
   "source": [
    "print(\"Hello,\", end=\" \")\n",
    "print(\"Good Morning\")"
   ]
  },
  {
   "cell_type": "code",
   "execution_count": 8,
   "id": "ad55c76d",
   "metadata": {
    "scrolled": true
   },
   "outputs": [
    {
     "name": "stdout",
     "output_type": "stream",
     "text": [
      "Employee Id: 101 :Employee Name: Rahul\n"
     ]
    }
   ],
   "source": [
    "id  = 101\n",
    "ename = \"Rahul\"\n",
    "esal = 45000.00\n",
    "\n",
    "print(\"Employee Id:\", id, \":Employee Name:\", ename)"
   ]
  },
  {
   "cell_type": "code",
   "execution_count": 11,
   "id": "986bd312",
   "metadata": {},
   "outputs": [
    {
     "name": "stdout",
     "output_type": "stream",
     "text": [
      "Employee Id 101\n"
     ]
    }
   ],
   "source": [
    "id  = 101\n",
    "ename = \"Rahul\"\n",
    "esal = 45000.00\n",
    "\n",
    "print(\"Employee Id {}\".format(id))"
   ]
  },
  {
   "cell_type": "code",
   "execution_count": 14,
   "id": "166af51a",
   "metadata": {},
   "outputs": [
    {
     "name": "stdout",
     "output_type": "stream",
     "text": [
      "Employee Id 101 , Employee Name:Rahul and Employee Sal: 45000.0\n"
     ]
    }
   ],
   "source": [
    "id  = 101\n",
    "ename = \"Rahul\"\n",
    "esal = 45000.00\n",
    "\n",
    "print(\"Employee Id {} , Employee Name:{} and Employee Sal: {}\"\n",
    "      .format(id,ename,esal))"
   ]
  },
  {
   "cell_type": "code",
   "execution_count": 15,
   "id": "73f179a4",
   "metadata": {},
   "outputs": [
    {
     "name": "stdout",
     "output_type": "stream",
     "text": [
      "Employee Id 101 , Employee Name:Rahul and Employee Sal: 45000.0\n",
      "Employee Id:101 and Name: Rahul\n"
     ]
    }
   ],
   "source": [
    "id  = 101\n",
    "ename = \"Rahul\"\n",
    "esal = 45000.00\n",
    "\n",
    "print(\"Employee Id {} , Employee Name:{} and Employee Sal: {}\"\n",
    "      .format(id,ename,esal))\n",
    "\n",
    "print(\"Employee Id:{a} and Name: {b}\".format(a=id, b= ename))"
   ]
  },
  {
   "cell_type": "code",
   "execution_count": 17,
   "id": "64be0038",
   "metadata": {},
   "outputs": [
    {
     "name": "stdout",
     "output_type": "stream",
     "text": [
      "Enter Employee Id:101\n",
      "Enter Name:Rahul\n",
      "Enter Employee Salary:45000.000\n",
      "<class 'str'>\n",
      "101\n"
     ]
    }
   ],
   "source": [
    "id = input(\"Enter Employee Id:\")\n",
    "ename = input(\"Enter Name:\")\n",
    "esal = input(\"Enter Employee Salary:\")\n",
    "print(type(id))\n",
    "print(type(ename))\n",
    "print(type(esal))\n",
    "print(id)\n",
    "print(ename)\n",
    "print(esal)\n"
   ]
  },
  {
   "cell_type": "code",
   "execution_count": 18,
   "id": "7b7d0b54",
   "metadata": {},
   "outputs": [
    {
     "name": "stdout",
     "output_type": "stream",
     "text": [
      "Enter Employee Id:101\n",
      "Enter Name:Rahul\n",
      "Enter Employee Salary:45000\n",
      "<class 'str'>\n",
      "<class 'str'>\n",
      "<class 'str'>\n",
      "101\n",
      "Rahul\n",
      "45000\n"
     ]
    }
   ],
   "source": [
    "id = input(\"Enter Employee Id:\")\n",
    "ename = input(\"Enter Name:\")\n",
    "esal = input(\"Enter Employee Salary:\")\n",
    "print(type(id))\n",
    "print(type(ename))\n",
    "print(type(esal))\n",
    "print(id)\n",
    "print(ename)\n",
    "print(esal)"
   ]
  },
  {
   "cell_type": "code",
   "execution_count": null,
   "id": "e10385a5",
   "metadata": {},
   "outputs": [],
   "source": []
  }
 ],
 "metadata": {
  "kernelspec": {
   "display_name": "Python 3 (ipykernel)",
   "language": "python",
   "name": "python3"
  },
  "language_info": {
   "codemirror_mode": {
    "name": "ipython",
    "version": 3
   },
   "file_extension": ".py",
   "mimetype": "text/x-python",
   "name": "python",
   "nbconvert_exporter": "python",
   "pygments_lexer": "ipython3",
   "version": "3.7.0"
  }
 },
 "nbformat": 4,
 "nbformat_minor": 5
}
