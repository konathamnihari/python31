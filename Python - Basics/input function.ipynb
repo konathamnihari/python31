{
 "cells": [
  {
   "cell_type": "code",
   "execution_count": 1,
   "id": "08ef8208",
   "metadata": {},
   "outputs": [
    {
     "name": "stdout",
     "output_type": "stream",
     "text": [
      "Enter First Number:100\n",
      "Enter Second Number:200\n",
      "100200\n"
     ]
    }
   ],
   "source": [
    "#Read two number from keyboard\n",
    "\n",
    "a = input(\"Enter First Number:\")\n",
    "b = input(\"Enter Second Number:\")\n",
    "\n",
    "print(a+b)"
   ]
  },
  {
   "cell_type": "code",
   "execution_count": 2,
   "id": "e3b44ff0",
   "metadata": {},
   "outputs": [
    {
     "name": "stdout",
     "output_type": "stream",
     "text": [
      "\n",
      "Please wait a moment while I gather a list of all available modules...\n",
      "\n"
     ]
    },
    {
     "name": "stderr",
     "output_type": "stream",
     "text": [
      "c:\\users\\istasoft\\appdata\\local\\programs\\python\\python37-32\\lib\\site-packages\\IPython\\kernel\\__init__.py:13: ShimWarning: The `IPython.kernel` package has been deprecated since IPython 4.0.You should import from ipykernel or jupyter_client instead.\n",
      "  \"You should import from ipykernel or jupyter_client instead.\", ShimWarning)\n"
     ]
    },
    {
     "name": "stdout",
     "output_type": "stream",
     "text": [
      "pygame 2.1.2 (SDL 2.0.18, Python 3.7.0)\n",
      "Hello from the pygame community. https://www.pygame.org/contribute.html\n"
     ]
    },
    {
     "name": "stderr",
     "output_type": "stream",
     "text": [
      "c:\\users\\istasoft\\appdata\\local\\programs\\python\\python37-32\\lib\\pkgutil.py:107: VisibleDeprecationWarning: zmq.eventloop.minitornado is deprecated in pyzmq 14.0 and will be removed.\n",
      "    Install tornado itself to use zmq with the tornado IOLoop.\n",
      "    \n",
      "  yield from walk_packages(path, info.name+'.', onerror)\n"
     ]
    },
    {
     "name": "stdout",
     "output_type": "stream",
     "text": [
      "IPython             brain_namedtuple_enum jupyterlab          sre_compile\n",
      "__future__          brain_nose          jupyterlab_pygments sre_constants\n",
      "_abc                brain_numpy_core_fromnumeric jupyterlab_server   sre_parse\n",
      "_argon2_cffi_bindings brain_numpy_core_function_base jupyterlab_widgets  ssl\n",
      "_ast                brain_numpy_core_multiarray keyword             sspi\n",
      "_asyncio            brain_numpy_core_numeric lazy_object_proxy   sspicon\n",
      "_bisect             brain_numpy_core_numerictypes lib2to3             stat\n",
      "_blake2             brain_numpy_core_umath linecache           statistics\n",
      "_bootlocale         brain_numpy_ndarray locale              storemagic\n",
      "_bz2                brain_numpy_random_mtrand logging             string\n",
      "_cffi_backend       brain_numpy_utils   lzma                stringprep\n",
      "_codecs             brain_pkg_resources macpath             struct\n",
      "_codecs_cn          brain_pytest        mailbox             subprocess\n",
      "_codecs_hk          brain_qt            mailcap             sunau\n",
      "_codecs_iso2022     brain_random        markupsafe          symbol\n",
      "_codecs_jp          brain_re            marshal             sympyprinting\n",
      "_codecs_kr          brain_responses     math                symtable\n",
      "_codecs_tw          brain_scipy_signal  matplotlib_inline   sys\n",
      "_collections        brain_six           mccabe              sysconfig\n",
      "_collections_abc    brain_ssl           mimetypes           tabnanny\n",
      "_compat_pickle      brain_subprocess    mistune             tarfile\n",
      "_compression        brain_threading     mmap                telnetlib\n",
      "_contextvars        brain_typing        mmapfile            tempfile\n",
      "_csv                brain_uuid          mmsystem            terminado\n",
      "_ctypes             bs4                 modulefinder        test\n",
      "_ctypes_test        bson                mongodb_monitoring  tests\n",
      "_datetime           builtins            mongodb_util        textwrap\n",
      "_decimal            bz2                 msilib              this\n",
      "_distutils_findvs   cProfile            msvcrt              threading\n",
      "_dummy_thread       calendar            multiprocessing     time\n",
      "_elementtree        camelcase           mysql               timeit\n",
      "_functools          certifi             mysqlx              timer\n",
      "_hashlib            cffi                nbclassic           tinycss2\n",
      "_heapq              cgi                 nbclient            tkinter\n",
      "_imp                cgitb               nbconvert           token\n",
      "_io                 charset_normalizer  nbformat            tokenize\n",
      "_json               chunk               nest_asyncio        toml\n",
      "_locale             cmath               netbios             tornado\n",
      "_lsprof             cmd                 netrc               trace\n",
      "_lzma               code                nntplib             traceback\n",
      "_markupbase         codecs              notebook            tracemalloc\n",
      "_md5                codeop              notebook_shim       traitlets\n",
      "_msi                collections         nt                  tty\n",
      "_multibytecodec     colorama            ntpath              turtle\n",
      "_multiprocessing    colorsys            ntsecuritycon       turtledemo\n",
      "_opcode             commctrl            nturl2path          typed_ast\n",
      "_operator           compileall          numbers             types\n",
      "_osx_support        concurrent          odbc                typing\n",
      "_overlapped         configparser        opcode              typing_extensions\n",
      "_pickle             contextlib          operator            unicodedata\n",
      "_py_abc             contextvars         optparse            unittest\n",
      "_pydecimal          copy                os                  urllib\n",
      "_pyio               copyreg             packaging           urllib3\n",
      "_pyrsistent_version crypt               pandocfilters       uu\n",
      "_queue              csv                 parser              uuid\n",
      "_random             ctypes              parso               venv\n",
      "_sha1               curses              pathlib             virtualenv\n",
      "_sha256             cythonmagic         pdb                 warnings\n",
      "_sha3               dataclasses         perfmon             wave\n",
      "_sha512             datetime            pickle              wcwidth\n",
      "_signal             dateutil            pickleshare         weakref\n",
      "_sitebuiltins       dbi                 pickletools         webbrowser\n",
      "_socket             dbm                 pip                 webencodings\n",
      "_sqlite3            dde                 pipes               websocket\n",
      "_sre                debugpy             pkg_resources       wheel\n",
      "_ssl                decimal             pkgutil             widgetsnbextension\n",
      "_stat               decorator           platform            win2kras\n",
      "_string             defusedxml          plistlib            win32api\n",
      "_strptime           difflib             poplib              win32clipboard\n",
      "_struct             dis                 posixpath           win32com\n",
      "_symtable           distlib             pprint              win32con\n",
      "_testbuffer         distutils           profile             win32console\n",
      "_testcapi           django              prometheus_client   win32cred\n",
      "_testconsole        doctest             prompt_toolkit      win32crypt\n",
      "_testimportmultiple dummy_threading     pstats              win32cryptcon\n",
      "_testmultiphase     easy_install        psutil              win32event\n",
      "_thread             email               pty                 win32evtlog\n",
      "_threading_local    encodings           pvectorc            win32evtlogutil\n",
      "_tkinter            ensurepip           py_compile          win32file\n",
      "_tracemalloc        entrypoints         pyclbr              win32gui\n",
      "_warnings           enum                pycodestyle         win32gui_struct\n",
      "_weakref            errno               pycparser           win32help\n",
      "_weakrefset         fastjsonschema      pydoc               win32inet\n",
      "_win32sysloader     faulthandler        pydoc_data          win32inetcon\n",
      "_winapi             filecmp             pyexpat             win32job\n",
      "_winxptheme         fileinput           pygame              win32lz\n",
      "abc                 filelock            pygments            win32net\n",
      "adodbapi            fnmatch             pylint              win32netcon\n",
      "afxres              formatter           pymongo             win32pdh\n",
      "aifc                fractions           pyparsing           win32pdhquery\n",
      "antigravity         ftplib              pyrsistent          win32pdhutil\n",
      "anyio               functools           pythoncom           win32pipe\n",
      "appdirs             gc                  pytz                win32print\n",
      "argon2              genericpath         pywin               win32process\n",
      "argparse            getopt              pywin32_bootstrap   win32profile\n",
      "array               getpass             pywin32_testutil    win32ras\n",
      "asgiref             gettext             pywintypes          win32rcparser\n",
      "ast                 glob                qtconsole           win32security\n",
      "astroid             gridfs              qtpy                win32service\n",
      "asynchat            gzip                queue               win32serviceutil\n",
      "asyncio             hashlib             quopri              win32timezone\n",
      "asyncore            heapq               random              win32trace\n",
      "atexit              hmac                rasutil             win32traceutil\n",
      "attr                html                re                  win32transaction\n",
      "attrs               http                regcheck            win32ts\n",
      "audioop             idlelib             regutil             win32ui\n",
      "autopep8            idna                reprlib             win32uiole\n",
      "autoreload          imaplib             requests            win32verstamp\n",
      "babel               imghdr              rlcompleter         win32wnet\n",
      "backcall            imp                 rmagic              winerror\n",
      "base64              importlib           runpy               winioctlcon\n",
      "bdb                 importlib_metadata  sched               winnt\n",
      "binascii            importlib_resources secrets             winperf\n",
      "binhex              inspect             select              winpty\n",
      "bisect              io                  selectors           winreg\n",
      "bleach              ipaddress           send2trash          winsound\n"
     ]
    },
    {
     "name": "stdout",
     "output_type": "stream",
     "text": [
      "brain_argparse      ipykernel           servicemanager      winxpgui\n",
      "brain_attrs         ipykernel_launcher  setuptools          winxptheme\n",
      "brain_boto3         ipython_genutils    shelve              wrapt\n",
      "brain_builtin_inference ipywidgets          shlex               wsgiref\n",
      "brain_collections   isapi               shutil              xdrlib\n",
      "brain_crypt         isort               signal              xml\n",
      "brain_curses        itertools           site                xmlrpc\n",
      "brain_dataclasses   jedi                six                 xxsubtype\n",
      "brain_dateutil      jinja2              smtpd               zipapp\n",
      "brain_fstrings      json                smtplib             zipfile\n",
      "brain_functools     json5               sndhdr              zipimport\n",
      "brain_gi            jsonschema          sniffio             zipp\n",
      "brain_hashlib       jupyter             socket              zlib\n",
      "brain_http          jupyter_client      socketserver        zmq\n",
      "brain_io            jupyter_console     soupsieve           \n",
      "brain_mechanize     jupyter_core        sqlite3             \n",
      "brain_multiprocessing jupyter_server      sqlparse            \n",
      "\n",
      "Enter any module name to get more help.  Or, type \"modules spam\" to search\n",
      "for modules whose name or summary contain the string \"spam\".\n",
      "\n"
     ]
    }
   ],
   "source": [
    "help('modules')"
   ]
  },
  {
   "cell_type": "code",
   "execution_count": null,
   "id": "5e4b84d3",
   "metadata": {},
   "outputs": [],
   "source": []
  }
 ],
 "metadata": {
  "kernelspec": {
   "display_name": "Python 3 (ipykernel)",
   "language": "python",
   "name": "python3"
  },
  "language_info": {
   "codemirror_mode": {
    "name": "ipython",
    "version": 3
   },
   "file_extension": ".py",
   "mimetype": "text/x-python",
   "name": "python",
   "nbconvert_exporter": "python",
   "pygments_lexer": "ipython3",
   "version": "3.7.0"
  }
 },
 "nbformat": 4,
 "nbformat_minor": 5
}
