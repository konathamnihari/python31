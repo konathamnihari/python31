{
 "cells": [
  {
   "cell_type": "code",
   "execution_count": 2,
   "id": "3d970254",
   "metadata": {},
   "outputs": [
    {
     "name": "stdout",
     "output_type": "stream",
     "text": [
      "<class 'list'>\n"
     ]
    }
   ],
   "source": [
    "#create list object \n",
    "\n",
    "sizes = []  #empty list \n",
    "print(type(sizes))"
   ]
  },
  {
   "cell_type": "code",
   "execution_count": 3,
   "id": "7302ebd3",
   "metadata": {},
   "outputs": [
    {
     "name": "stdout",
     "output_type": "stream",
     "text": [
      "[38, 40, 42, 44]\n",
      "38\n",
      "40\n",
      "42\n",
      "44\n"
     ]
    }
   ],
   "source": [
    "#create list object \n",
    "\n",
    "sizes = [38,40,42,44]  \n",
    "#reading list object\n",
    "print(sizes)\n",
    "#read list elements using indexing \n",
    "print(sizes[0])\n",
    "print(sizes[1])\n",
    "print(sizes[2])\n",
    "print(sizes[3])"
   ]
  },
  {
   "cell_type": "code",
   "execution_count": 4,
   "id": "4569d419",
   "metadata": {},
   "outputs": [
    {
     "name": "stdout",
     "output_type": "stream",
     "text": [
      "['S', 'M', 'L', 'XL']\n",
      "4\n"
     ]
    }
   ],
   "source": [
    "#iterate list object using for loop annd while.\n",
    "\n",
    "#iterating sequence using for loop and while \n",
    "\n",
    "#What is sequence?\n",
    "#list \n",
    "#string\n",
    "#set\n",
    "#tuple\n",
    "#range\n",
    "#dict ** \n",
    "\n",
    "sizes = ['S','M','L','XL']\n",
    "print(sizes)\n",
    "print(len(sizes))"
   ]
  },
  {
   "cell_type": "code",
   "execution_count": 6,
   "id": "b5b95593",
   "metadata": {},
   "outputs": [
    {
     "name": "stdout",
     "output_type": "stream",
     "text": [
      "38\n",
      "40\n",
      "42\n",
      "44\n"
     ]
    }
   ],
   "source": [
    "sizes = [38,40,42,44]  \n",
    "\n",
    "#itearat usign while and for loop\n",
    "i=0\n",
    "\n",
    "while i<=3 : \n",
    "    print(sizes[i])\n",
    "    i = i+1\n"
   ]
  },
  {
   "cell_type": "code",
   "execution_count": 7,
   "id": "adf52b43",
   "metadata": {},
   "outputs": [
    {
     "name": "stdout",
     "output_type": "stream",
     "text": [
      "38\n",
      "40\n",
      "42\n",
      "44\n"
     ]
    }
   ],
   "source": [
    "sizes = [38,40,42,44,46,47,48,50,52] \n",
    "\n",
    "i=0\n",
    "\n",
    "while i<=3 : \n",
    "    print(sizes[i])\n",
    "    i = i+1\n"
   ]
  },
  {
   "cell_type": "code",
   "execution_count": 8,
   "id": "9310dcf9",
   "metadata": {},
   "outputs": [
    {
     "name": "stdout",
     "output_type": "stream",
     "text": [
      "38\n",
      "40\n",
      "42\n",
      "44\n",
      "46\n",
      "47\n",
      "48\n",
      "50\n",
      "52\n"
     ]
    }
   ],
   "source": [
    "sizes = [38,40,42,44,46,47,48,50,52] \n",
    "\n",
    "#using for loop st\n",
    "\n",
    "for size in sizes:\n",
    "    print(size)"
   ]
  },
  {
   "cell_type": "code",
   "execution_count": 9,
   "id": "965c08ba",
   "metadata": {},
   "outputs": [
    {
     "name": "stdout",
     "output_type": "stream",
     "text": [
      "38\n",
      "40\n",
      "42\n",
      "44\n",
      "46\n",
      "47\n",
      "48\n",
      "50\n",
      "52\n"
     ]
    }
   ],
   "source": [
    "sizes = [38,40,42,44,46,47,48,50,52] \n",
    "\n",
    "#iterat using while\n",
    "\n",
    "i=0\n",
    "\n",
    "while i<len(sizes):\n",
    "    print(sizes[i])\n",
    "    i = i+1\n"
   ]
  },
  {
   "cell_type": "code",
   "execution_count": null,
   "id": "e1521163",
   "metadata": {},
   "outputs": [],
   "source": []
  }
 ],
 "metadata": {
  "kernelspec": {
   "display_name": "Python 3 (ipykernel)",
   "language": "python",
   "name": "python3"
  },
  "language_info": {
   "codemirror_mode": {
    "name": "ipython",
    "version": 3
   },
   "file_extension": ".py",
   "mimetype": "text/x-python",
   "name": "python",
   "nbconvert_exporter": "python",
   "pygments_lexer": "ipython3",
   "version": "3.7.0"
  }
 },
 "nbformat": 4,
 "nbformat_minor": 5
}
