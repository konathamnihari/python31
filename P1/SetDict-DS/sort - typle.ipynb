{
 "cells": [
  {
   "cell_type": "markdown",
   "id": "b2ba87fd",
   "metadata": {},
   "source": [
    "t1 = (1,77,9,3)\n",
    "print(tupple(list(t1).sort()))"
   ]
  },
  {
   "cell_type": "code",
   "execution_count": 3,
   "id": "d7775842",
   "metadata": {},
   "outputs": [
    {
     "name": "stdout",
     "output_type": "stream",
     "text": [
      "[1, 3, 9, 77]\n",
      "(1, 3, 9, 77)\n"
     ]
    }
   ],
   "source": [
    "t1 = (1,77,9,3) \n",
    "\n",
    "l1 = list(t1)\n",
    "l1.sort()\n",
    "\n",
    "print(l1)\n",
    "\n",
    "t1 = tuple(l1)\n",
    "print(t1)"
   ]
  },
  {
   "cell_type": "code",
   "execution_count": 4,
   "id": "c5da087d",
   "metadata": {},
   "outputs": [
    {
     "name": "stdout",
     "output_type": "stream",
     "text": [
      "None\n"
     ]
    }
   ],
   "source": [
    "t1 = (1,77,9,3)\n",
    "l1 =list(t1).sort()\n",
    "print(l1)"
   ]
  },
  {
   "cell_type": "code",
   "execution_count": null,
   "id": "194d1132",
   "metadata": {},
   "outputs": [],
   "source": []
  }
 ],
 "metadata": {
  "kernelspec": {
   "display_name": "Python 3 (ipykernel)",
   "language": "python",
   "name": "python3"
  },
  "language_info": {
   "codemirror_mode": {
    "name": "ipython",
    "version": 3
   },
   "file_extension": ".py",
   "mimetype": "text/x-python",
   "name": "python",
   "nbconvert_exporter": "python",
   "pygments_lexer": "ipython3",
   "version": "3.7.0"
  }
 },
 "nbformat": 4,
 "nbformat_minor": 5
}
