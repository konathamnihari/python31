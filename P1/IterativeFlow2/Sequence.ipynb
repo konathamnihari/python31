{
 "cells": [
  {
   "cell_type": "code",
   "execution_count": 1,
   "id": "eab1028b",
   "metadata": {},
   "outputs": [
    {
     "name": "stdout",
     "output_type": "stream",
     "text": [
      "[]\n",
      "()\n",
      "Rahul\n",
      "{}\n",
      "range(100, 200)\n"
     ]
    }
   ],
   "source": [
    "enames  = []\n",
    "\n",
    "sizes =()\n",
    "\n",
    "ids = {}\n",
    "\n",
    "ename = \"Rahul\"\n",
    "\n",
    "r = range(100,200)\n",
    "\n",
    "print(enames)\n",
    "print(sizes)\n",
    "print(ename)\n",
    "print(ids)\n",
    "print(r)"
   ]
  },
  {
   "cell_type": "code",
   "execution_count": 2,
   "id": "683dea67",
   "metadata": {},
   "outputs": [
    {
     "name": "stdout",
     "output_type": "stream",
     "text": [
      "Rahul\n",
      "sonia\n",
      "Priyanka\n"
     ]
    }
   ],
   "source": [
    "enames  = [\"Rahul\", \"sonia\",\"Priyanka\"]\n",
    "#iterate usign for and while \n",
    "for ename in enames:\n",
    "    print(ename)"
   ]
  },
  {
   "cell_type": "code",
   "execution_count": 3,
   "id": "eeaa700d",
   "metadata": {},
   "outputs": [
    {
     "name": "stdout",
     "output_type": "stream",
     "text": [
      "Rahul\n",
      "sonia\n",
      "Priyanka\n"
     ]
    }
   ],
   "source": [
    "enames  = [\"Rahul\", \"sonia\",\"Priyanka\"]\n",
    "#iterate usign for and while\n",
    "\n",
    "i = 0\n",
    "while i< len(enames):\n",
    "    print(enames[i])\n",
    "    i = i+1"
   ]
  },
  {
   "cell_type": "code",
   "execution_count": 4,
   "id": "fae1a09a",
   "metadata": {},
   "outputs": [
    {
     "name": "stdout",
     "output_type": "stream",
     "text": [
      "Rahul\n",
      "sonia\n",
      "Priyanka\n",
      "Modi\n",
      "DK Shiva\n",
      "Annamalai\n"
     ]
    }
   ],
   "source": [
    "enames  = [\"Rahul\", \"sonia\",\"Priyanka\", \"Modi\", \"DK Shiva\",\"Annamalai\"]\n",
    "#iterate usign for and while\n",
    "\n",
    "i = 0\n",
    "while i< len(enames):\n",
    "    print(enames[i])\n",
    "    i = i+1"
   ]
  },
  {
   "cell_type": "code",
   "execution_count": 5,
   "id": "30c4ad05",
   "metadata": {},
   "outputs": [
    {
     "name": "stdout",
     "output_type": "stream",
     "text": [
      "{104, 101, 102, 103}\n",
      "4\n"
     ]
    }
   ],
   "source": [
    "ids  = {101,102,103,104,101,102,101}\n",
    "\n",
    "print(ids)\n",
    "print(len(ids))"
   ]
  },
  {
   "cell_type": "code",
   "execution_count": 6,
   "id": "b67591f8",
   "metadata": {},
   "outputs": [
    {
     "name": "stdout",
     "output_type": "stream",
     "text": [
      "104\n",
      "101\n",
      "102\n",
      "103\n"
     ]
    }
   ],
   "source": [
    "ids  = {101,102,103,104,101,102,101}\n",
    "\n",
    "for id in ids:\n",
    "    print(id)"
   ]
  },
  {
   "cell_type": "code",
   "execution_count": 7,
   "id": "0c0df227",
   "metadata": {},
   "outputs": [
    {
     "ename": "TypeError",
     "evalue": "'set' object does not support indexing",
     "output_type": "error",
     "traceback": [
      "\u001b[1;31m---------------------------------------------------------------------------\u001b[0m",
      "\u001b[1;31mTypeError\u001b[0m                                 Traceback (most recent call last)",
      "\u001b[1;32m~\\AppData\\Local\\Temp\\ipykernel_11828\\793146147.py\u001b[0m in \u001b[0;36m<module>\u001b[1;34m\u001b[0m\n\u001b[0;32m      3\u001b[0m \u001b[0mi\u001b[0m\u001b[1;33m=\u001b[0m\u001b[1;36m0\u001b[0m\u001b[1;33m\u001b[0m\u001b[0m\n\u001b[0;32m      4\u001b[0m \u001b[1;32mwhile\u001b[0m \u001b[0mi\u001b[0m\u001b[1;33m<\u001b[0m\u001b[0mlen\u001b[0m\u001b[1;33m(\u001b[0m\u001b[0mids\u001b[0m\u001b[1;33m)\u001b[0m\u001b[1;33m:\u001b[0m\u001b[1;33m\u001b[0m\u001b[0m\n\u001b[1;32m----> 5\u001b[1;33m     \u001b[0mprint\u001b[0m\u001b[1;33m(\u001b[0m\u001b[0mids\u001b[0m\u001b[1;33m[\u001b[0m\u001b[0mi\u001b[0m\u001b[1;33m]\u001b[0m\u001b[1;33m)\u001b[0m\u001b[1;33m\u001b[0m\u001b[0m\n\u001b[0m\u001b[0;32m      6\u001b[0m     \u001b[0mi\u001b[0m\u001b[1;33m=\u001b[0m\u001b[0mi\u001b[0m\u001b[1;33m+\u001b[0m\u001b[1;36m1\u001b[0m\u001b[1;33m\u001b[0m\u001b[0m\n",
      "\u001b[1;31mTypeError\u001b[0m: 'set' object does not support indexing"
     ]
    }
   ],
   "source": [
    "ids  = {101,102,103,104,101,102,101}\n",
    "\n",
    "i=0\n",
    "while i<len(ids):\n",
    "    print(ids[i])\n",
    "    i=i+1"
   ]
  },
  {
   "cell_type": "code",
   "execution_count": 8,
   "id": "49ec7089",
   "metadata": {},
   "outputs": [
    {
     "name": "stdout",
     "output_type": "stream",
     "text": [
      "R\n",
      "a\n",
      "h\n",
      "u\n",
      "l\n",
      " \n",
      "G\n",
      "a\n",
      "n\n",
      "d\n",
      "h\n",
      "i\n"
     ]
    }
   ],
   "source": [
    "ename =\"Rahul Gandhi\"\n",
    "\n",
    "for ch in ename:\n",
    "    print(ch)"
   ]
  },
  {
   "cell_type": "code",
   "execution_count": null,
   "id": "d37667e5",
   "metadata": {},
   "outputs": [],
   "source": []
  }
 ],
 "metadata": {
  "kernelspec": {
   "display_name": "Python 3 (ipykernel)",
   "language": "python",
   "name": "python3"
  },
  "language_info": {
   "codemirror_mode": {
    "name": "ipython",
    "version": 3
   },
   "file_extension": ".py",
   "mimetype": "text/x-python",
   "name": "python",
   "nbconvert_exporter": "python",
   "pygments_lexer": "ipython3",
   "version": "3.7.0"
  }
 },
 "nbformat": 4,
 "nbformat_minor": 5
}
