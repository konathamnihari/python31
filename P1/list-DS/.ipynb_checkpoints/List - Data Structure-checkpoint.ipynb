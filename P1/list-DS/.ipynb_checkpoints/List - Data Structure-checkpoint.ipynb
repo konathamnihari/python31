{
 "cells": [
  {
   "cell_type": "code",
   "execution_count": 1,
   "id": "72401838",
   "metadata": {},
   "outputs": [
    {
     "name": "stdout",
     "output_type": "stream",
     "text": [
      "<class 'list'>\n",
      "<class 'list'>\n",
      "<class 'list'>\n",
      "<class 'list'>\n"
     ]
    }
   ],
   "source": [
    "#create list object \n",
    "l1 = []  # empty list\n",
    "\n",
    "l2 = [10,20,30,40] \n",
    "\n",
    "l3 = [10,20,30,40,10,20,30]  # alllowed duplciates \n",
    "\n",
    "l4 = [10, 20.5,'Rahul', True, {}, (10,20), {10,20}] # allowed Herto\n",
    "\n",
    "print(type(l1))\n",
    "print(type(l2))\n",
    "print(type(l3))\n",
    "print(type(l4))\n"
   ]
  },
  {
   "cell_type": "code",
   "execution_count": 2,
   "id": "c7e27651",
   "metadata": {},
   "outputs": [
    {
     "name": "stdout",
     "output_type": "stream",
     "text": [
      "Enter List:[10,20,30]\n",
      "<class 'list'>\n",
      "['[', '1', '0', ',', '2', '0', ',', '3', '0', ']']\n"
     ]
    }
   ],
   "source": [
    "l5=list(input(\"Enter List:\"))\n",
    "print(type(l5))\n",
    "print(l5)"
   ]
  },
  {
   "cell_type": "code",
   "execution_count": 4,
   "id": "2778f47a",
   "metadata": {},
   "outputs": [
    {
     "name": "stdout",
     "output_type": "stream",
     "text": [
      "Enter List:10\n",
      "['1', '0']\n",
      "<class 'list'>\n"
     ]
    }
   ],
   "source": [
    "l5=list(input(\"Enter List:\"))\n",
    "print(l5)\n",
    "print(type(l5))"
   ]
  },
  {
   "cell_type": "code",
   "execution_count": 5,
   "id": "ca05b562",
   "metadata": {},
   "outputs": [
    {
     "ename": "SyntaxError",
     "evalue": "unexpected EOF while parsing (<string>, line 1)",
     "output_type": "error",
     "traceback": [
      "Traceback \u001b[1;36m(most recent call last)\u001b[0m:\n",
      "  File \u001b[0;32m\"c:\\users\\istasoft\\appdata\\local\\programs\\python\\python37-32\\lib\\site-packages\\IPython\\core\\interactiveshell.py\"\u001b[0m, line \u001b[0;32m3552\u001b[0m, in \u001b[0;35mrun_code\u001b[0m\n    exec(code_obj, self.user_global_ns, self.user_ns)\n",
      "\u001b[1;36m  File \u001b[1;32m\"C:\\Users\\IstaSoft\\AppData\\Local\\Temp\\ipykernel_21416\\4208393218.py\"\u001b[1;36m, line \u001b[1;32m1\u001b[1;36m, in \u001b[1;35m<module>\u001b[1;36m\u001b[0m\n\u001b[1;33m    l6 = eval(\"Enter List\")\u001b[0m\n",
      "\u001b[1;36m  File \u001b[1;32m\"<string>\"\u001b[1;36m, line \u001b[1;32m1\u001b[0m\n\u001b[1;33m    Enter List\u001b[0m\n\u001b[1;37m             ^\u001b[0m\n\u001b[1;31mSyntaxError\u001b[0m\u001b[1;31m:\u001b[0m unexpected EOF while parsing\n"
     ]
    }
   ],
   "source": [
    "l6 = eval(input(\"Enter List\"))\n",
    "print(l6)"
   ]
  },
  {
   "cell_type": "code",
   "execution_count": 7,
   "id": "41f95ecb",
   "metadata": {},
   "outputs": [
    {
     "name": "stdout",
     "output_type": "stream",
     "text": [
      "Enter List[10,20]\n",
      "[10, 20]\n"
     ]
    }
   ],
   "source": [
    "l6 = eval(input(\"Enter List:\"))\n",
    "print(l6)"
   ]
  },
  {
   "cell_type": "code",
   "execution_count": 8,
   "id": "168e481b",
   "metadata": {},
   "outputs": [
    {
     "name": "stdout",
     "output_type": "stream",
     "text": [
      "<class 'list'>\n",
      "['R', 'a', 'h', 'u', 'l']\n"
     ]
    }
   ],
   "source": [
    "#create list object using string methods\n",
    "\n",
    "ename = \"Rahul\"\n",
    "\n",
    "l1 = list(ename)\n",
    "print(type(l1))\n",
    "print(l1)"
   ]
  },
  {
   "cell_type": "code",
   "execution_count": 9,
   "id": "11ca36ef",
   "metadata": {},
   "outputs": [
    {
     "name": "stdout",
     "output_type": "stream",
     "text": [
      "<class 'list'>\n",
      "['Hell0,', 'Good', 'Morning,', 'Welcome', 'python', 'world']\n"
     ]
    }
   ],
   "source": [
    "#create list object using string methods\n",
    "\n",
    "st = \"Hell0, Good Morning, Welcome python world\"\n",
    "l10 = st.split()\n",
    "print(type(l10))\n",
    "print(l10)"
   ]
  },
  {
   "cell_type": "code",
   "execution_count": 10,
   "id": "8654f802",
   "metadata": {},
   "outputs": [
    {
     "name": "stdout",
     "output_type": "stream",
     "text": [
      "[10, 20, 30, 40]\n"
     ]
    }
   ],
   "source": [
    "size = [10,20,30,40]\n",
    "new_Sizes = size.copy()\n",
    "\n",
    "print(new_Sizes)"
   ]
  },
  {
   "cell_type": "code",
   "execution_count": null,
   "id": "296b86af",
   "metadata": {},
   "outputs": [],
   "source": []
  }
 ],
 "metadata": {
  "kernelspec": {
   "display_name": "Python 3 (ipykernel)",
   "language": "python",
   "name": "python3"
  },
  "language_info": {
   "codemirror_mode": {
    "name": "ipython",
    "version": 3
   },
   "file_extension": ".py",
   "mimetype": "text/x-python",
   "name": "python",
   "nbconvert_exporter": "python",
   "pygments_lexer": "ipython3",
   "version": "3.7.0"
  }
 },
 "nbformat": 4,
 "nbformat_minor": 5
}
