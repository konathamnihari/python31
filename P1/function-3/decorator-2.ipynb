{
 "cells": [
  {
   "cell_type": "code",
   "execution_count": 3,
   "id": "e77463d7",
   "metadata": {},
   "outputs": [
    {
     "name": "stdout",
     "output_type": "stream",
     "text": [
      "HELLO,GOOD MORNING\n"
     ]
    }
   ],
   "source": [
    "def upper_Case(func):\n",
    "    \n",
    "    def inner():\n",
    "        msg = func()\n",
    "        return msg.upper()\n",
    "    \n",
    "    return inner\n",
    "\n",
    "@upper_Case\n",
    "def display():\n",
    "    return \"hello,good morning\"\n",
    "\n",
    "\n",
    "print(display())\n",
    "\n"
   ]
  },
  {
   "cell_type": "code",
   "execution_count": 8,
   "id": "b68a6417",
   "metadata": {},
   "outputs": [
    {
     "name": "stdout",
     "output_type": "stream",
     "text": [
      "Outer fun\n",
      "innner fun\n",
      "innner fun\n",
      "innner fun\n"
     ]
    }
   ],
   "source": [
    "\n",
    "def outer():\n",
    "    print(\"Outer fun\")\n",
    "    \n",
    "    def inner():\n",
    "        print(\"innner fun\")\n",
    "    \n",
    "    return inner\n",
    "        \n",
    "innerFun=outer()\n",
    "\n",
    "innerFun()\n",
    "innerFun()\n",
    "innerFun()"
   ]
  },
  {
   "cell_type": "code",
   "execution_count": null,
   "id": "1ec1a246",
   "metadata": {},
   "outputs": [],
   "source": []
  }
 ],
 "metadata": {
  "kernelspec": {
   "display_name": "Python 3 (ipykernel)",
   "language": "python",
   "name": "python3"
  },
  "language_info": {
   "codemirror_mode": {
    "name": "ipython",
    "version": 3
   },
   "file_extension": ".py",
   "mimetype": "text/x-python",
   "name": "python",
   "nbconvert_exporter": "python",
   "pygments_lexer": "ipython3",
   "version": "3.7.0"
  }
 },
 "nbformat": 4,
 "nbformat_minor": 5
}
